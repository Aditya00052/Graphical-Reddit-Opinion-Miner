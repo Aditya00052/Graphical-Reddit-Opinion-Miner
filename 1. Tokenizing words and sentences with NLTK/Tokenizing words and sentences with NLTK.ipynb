{
 "cells": [
  {
   "cell_type": "code",
   "execution_count": 2,
   "id": "e3300033",
   "metadata": {},
   "outputs": [],
   "source": [
    "import nltk\n",
    "from nltk.tokenize import word_tokenize, sent_tokenize"
   ]
  },
  {
   "cell_type": "code",
   "execution_count": 1,
   "id": "c10c6e32",
   "metadata": {},
   "outputs": [],
   "source": [
    "example_txt = \"Hi Mr. Johnson, how's everything going? The sun is shining bright, and JavaScript is fantastic. The clouds have a golden hue. It's probably best not to snack on paper.\""
   ]
  },
  {
   "cell_type": "code",
   "execution_count": 3,
   "id": "364fe8f5",
   "metadata": {},
   "outputs": [
    {
     "name": "stdout",
     "output_type": "stream",
     "text": [
      "[\"Hi Mr. Johnson, how's everything going?\", 'The sun is shining bright, and JavaScript is fantastic.', 'The clouds have a golden hue.', \"It's probably best not to snack on paper.\"]\n"
     ]
    }
   ],
   "source": [
    "print(sent_tokenize(example_txt))"
   ]
  },
  {
   "cell_type": "code",
   "execution_count": 4,
   "id": "6d406815",
   "metadata": {
    "scrolled": true
   },
   "outputs": [
    {
     "name": "stdout",
     "output_type": "stream",
     "text": [
      "['Hi', 'Mr.', 'Johnson', ',', 'how', \"'s\", 'everything', 'going', '?', 'The', 'sun', 'is', 'shining', 'bright', ',', 'and', 'JavaScript', 'is', 'fantastic', '.', 'The', 'clouds', 'have', 'a', 'golden', 'hue', '.', 'It', \"'s\", 'probably', 'best', 'not', 'to', 'snack', 'on', 'paper', '.']\n"
     ]
    }
   ],
   "source": [
    "print(word_tokenize(example_txt))"
   ]
  },
  {
   "cell_type": "code",
   "execution_count": null,
   "id": "d7d9c014",
   "metadata": {},
   "outputs": [],
   "source": []
  }
 ],
 "metadata": {
  "kernelspec": {
   "display_name": "Python 3 (ipykernel)",
   "language": "python",
   "name": "python3"
  },
  "language_info": {
   "codemirror_mode": {
    "name": "ipython",
    "version": 3
   },
   "file_extension": ".py",
   "mimetype": "text/x-python",
   "name": "python",
   "nbconvert_exporter": "python",
   "pygments_lexer": "ipython3",
   "version": "3.10.9"
  }
 },
 "nbformat": 4,
 "nbformat_minor": 5
}
