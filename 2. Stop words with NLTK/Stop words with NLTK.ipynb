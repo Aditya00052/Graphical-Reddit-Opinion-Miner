{
 "cells": [
  {
   "cell_type": "code",
   "execution_count": 2,
   "id": "56d8fa3e",
   "metadata": {},
   "outputs": [],
   "source": [
    "from nltk.tokenize import word_tokenize\n",
    "from nltk.corpus import stopwords"
   ]
  },
  {
   "cell_type": "code",
   "execution_count": 1,
   "id": "83253478",
   "metadata": {},
   "outputs": [],
   "source": [
    "example_txt = \"This sentence is a sample sentence, to display the power of stop words filtration.\""
   ]
  },
  {
   "cell_type": "code",
   "execution_count": 14,
   "id": "fc81277e",
   "metadata": {},
   "outputs": [],
   "source": [
    "# stopwords.words('english')   # a list"
   ]
  },
  {
   "cell_type": "code",
   "execution_count": 3,
   "id": "fd445702",
   "metadata": {},
   "outputs": [],
   "source": [
    "stop_words = set(stopwords.words('english'))"
   ]
  },
  {
   "cell_type": "code",
   "execution_count": 4,
   "id": "5259ba15",
   "metadata": {},
   "outputs": [],
   "source": [
    "words = word_tokenize(example_txt)"
   ]
  },
  {
   "cell_type": "code",
   "execution_count": 5,
   "id": "a0ff1916",
   "metadata": {},
   "outputs": [],
   "source": [
    "filtered_sentence = [word for word in words if word not in stop_words]"
   ]
  },
  {
   "cell_type": "code",
   "execution_count": 6,
   "id": "b2fff877",
   "metadata": {},
   "outputs": [
    {
     "name": "stdout",
     "output_type": "stream",
     "text": [
      "['This', 'sentence', 'is', 'a', 'sample', 'sentence', ',', 'to', 'display', 'the', 'power', 'of', 'stop', 'words', 'filtration', '.']\n",
      "['This', 'sentence', 'sample', 'sentence', ',', 'display', 'power', 'stop', 'words', 'filtration', '.']\n"
     ]
    }
   ],
   "source": [
    "print(words)\n",
    "print(filtered_sentence)"
   ]
  },
  {
   "cell_type": "code",
   "execution_count": null,
   "id": "5bc49c62",
   "metadata": {},
   "outputs": [],
   "source": []
  }
 ],
 "metadata": {
  "kernelspec": {
   "display_name": "Python 3 (ipykernel)",
   "language": "python",
   "name": "python3"
  },
  "language_info": {
   "codemirror_mode": {
    "name": "ipython",
    "version": 3
   },
   "file_extension": ".py",
   "mimetype": "text/x-python",
   "name": "python",
   "nbconvert_exporter": "python",
   "pygments_lexer": "ipython3",
   "version": "3.10.9"
  }
 },
 "nbformat": 4,
 "nbformat_minor": 5
}
