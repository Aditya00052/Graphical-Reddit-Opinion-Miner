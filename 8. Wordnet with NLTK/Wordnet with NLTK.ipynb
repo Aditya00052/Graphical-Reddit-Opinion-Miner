{
 "cells": [
  {
   "cell_type": "code",
   "execution_count": 1,
   "id": "0b0b74f3",
   "metadata": {},
   "outputs": [],
   "source": [
    "# Synsets: Groups of synonymous words with the same meaning.\n",
    "# Lemmas: The base forms of words associated with a synset.\n",
    "# Definitions: Definitions of each synset.\n",
    "# Examples: Example sentences showing how the word is used in context.\n",
    "# Synonyms and Antonyms: Finding words with similar and opposite meanings.\n",
    "# Word Similarity: Calculating how closely two words are related in meaning using WordNet."
   ]
  },
  {
   "cell_type": "code",
   "execution_count": 2,
   "id": "fd6a1022",
   "metadata": {},
   "outputs": [],
   "source": [
    "from nltk.corpus import wordnet"
   ]
  },
  {
   "cell_type": "markdown",
   "id": "00a5786a",
   "metadata": {},
   "source": [
    "<br><br><br>\n",
    "## Synsets:"
   ]
  },
  {
   "cell_type": "code",
   "execution_count": 3,
   "id": "de3a4bd4",
   "metadata": {},
   "outputs": [],
   "source": [
    "# Finding synsets of the word 'program':\n",
    "syns = wordnet.synsets('program')"
   ]
  },
  {
   "cell_type": "code",
   "execution_count": 6,
   "id": "b3fde80f",
   "metadata": {},
   "outputs": [
    {
     "name": "stdout",
     "output_type": "stream",
     "text": [
      "Synset('plan.n.01')\n",
      "Synset('program.n.02')\n",
      "Synset('broadcast.n.02')\n",
      "Synset('platform.n.02')\n",
      "Synset('program.n.05')\n",
      "Synset('course_of_study.n.01')\n",
      "Synset('program.n.07')\n",
      "Synset('program.n.08')\n",
      "Synset('program.v.01')\n",
      "Synset('program.v.02')\n"
     ]
    }
   ],
   "source": [
    "for syn in syns:\n",
    "    print(syn)"
   ]
  },
  {
   "cell_type": "code",
   "execution_count": 8,
   "id": "1ffb6410",
   "metadata": {},
   "outputs": [
    {
     "name": "stdout",
     "output_type": "stream",
     "text": [
      "plan.n.01\n",
      "program.n.02\n",
      "broadcast.n.02\n",
      "platform.n.02\n",
      "program.n.05\n",
      "course_of_study.n.01\n",
      "program.n.07\n",
      "program.n.08\n",
      "program.v.01\n",
      "program.v.02\n"
     ]
    }
   ],
   "source": [
    "# syns[0].name(): Prints the name of the first synset in the list. \n",
    "# A synset's name includes the word, part of speech, and a sense index (e.g., program.n.01 means the first noun sense of the word \"program\").\n",
    "for syn in syns:\n",
    "    print(syn.name())"
   ]
  },
  {
   "cell_type": "markdown",
   "id": "f4a6546d",
   "metadata": {},
   "source": [
    "<br><br><br>\n",
    "## Lemmas:"
   ]
  },
  {
   "cell_type": "code",
   "execution_count": 12,
   "id": "df5152da",
   "metadata": {},
   "outputs": [
    {
     "data": {
      "text/plain": [
       "[Lemma('plan.n.01.plan'),\n",
       " Lemma('plan.n.01.program'),\n",
       " Lemma('plan.n.01.programme')]"
      ]
     },
     "execution_count": 12,
     "metadata": {},
     "output_type": "execute_result"
    }
   ],
   "source": [
    "# lemmas(): Returns the lemmas (different word forms or variations) for the synset. \n",
    "# Here, it's getting the lemmas for the first synset.\n",
    "syns[0].lemmas()"
   ]
  },
  {
   "cell_type": "code",
   "execution_count": 19,
   "id": "e5f01b8c",
   "metadata": {},
   "outputs": [
    {
     "data": {
      "text/plain": [
       "'plan'"
      ]
     },
     "execution_count": 19,
     "metadata": {},
     "output_type": "execute_result"
    }
   ],
   "source": [
    "syns[0].lemmas()[0].name()"
   ]
  },
  {
   "cell_type": "code",
   "execution_count": 20,
   "id": "a220699c",
   "metadata": {},
   "outputs": [
    {
     "data": {
      "text/plain": [
       "'program'"
      ]
     },
     "execution_count": 20,
     "metadata": {},
     "output_type": "execute_result"
    }
   ],
   "source": [
    "syns[0].lemmas()[1].name()"
   ]
  },
  {
   "cell_type": "markdown",
   "id": "d8ab7720",
   "metadata": {},
   "source": [
    "<br><br><br>\n",
    "## Definition:"
   ]
  },
  {
   "cell_type": "code",
   "execution_count": 16,
   "id": "4d08364f",
   "metadata": {},
   "outputs": [
    {
     "name": "stdout",
     "output_type": "stream",
     "text": [
      "Synset('plan.n.01'): a series of steps to be carried out or goals to be accomplished\n",
      "Synset('program.n.02'): a system of projects or services intended to meet a public need\n",
      "Synset('broadcast.n.02'): a radio or television show\n",
      "Synset('platform.n.02'): a document stating the aims and principles of a political party\n",
      "Synset('program.n.05'): an announcement of the events that will occur as part of a theatrical or sporting event\n",
      "Synset('course_of_study.n.01'): an integrated course of academic studies\n",
      "Synset('program.n.07'): (computer science) a sequence of instructions that a computer can interpret and execute\n",
      "Synset('program.n.08'): a performance (or series of performances) at a public presentation\n",
      "Synset('program.v.01'): arrange a program of or for\n",
      "Synset('program.v.02'): write a computer program\n"
     ]
    }
   ],
   "source": [
    "# definition(): This returns the definition of the first synset (the first sense of \"program\"). \n",
    "# For example, for program.n.01, it might return a definition like \"a series of steps to be carried out or goals to be accomplished.\"\n",
    "for syn in syns:\n",
    "    print(f'{syn}: {syn.definition()}')"
   ]
  },
  {
   "cell_type": "markdown",
   "id": "5990042c",
   "metadata": {},
   "source": [
    "<br><br><br>\n",
    "## Examples:"
   ]
  },
  {
   "cell_type": "code",
   "execution_count": 17,
   "id": "6a3ccd44",
   "metadata": {},
   "outputs": [
    {
     "name": "stdout",
     "output_type": "stream",
     "text": [
      "Synset('plan.n.01'): ['they drew up a six-step plan', 'they discussed plans for a new bond issue']\n",
      "Synset('program.n.02'): ['he proposed an elaborate program of public works', 'working mothers rely on the day care program']\n",
      "Synset('broadcast.n.02'): ['did you see his program last night?']\n",
      "Synset('platform.n.02'): ['their candidate simply ignored the party platform', 'they won the election even though they offered no positive program']\n",
      "Synset('program.n.05'): [\"you can't tell the players without a program\"]\n",
      "Synset('course_of_study.n.01'): ['he was admitted to a new program at the university']\n",
      "Synset('program.n.07'): ['the program required several hundred lines of code']\n",
      "Synset('program.n.08'): ['the program lasted more than two hours']\n",
      "Synset('program.v.01'): ['program the 80th birthday party']\n",
      "Synset('program.v.02'): []\n"
     ]
    }
   ],
   "source": [
    "# examples(): Provides example sentences showing how the word \"program\" is used in the context of the first synset.\n",
    "for syn in syns:\n",
    "    print(f'{syn}: {syn.examples()}')"
   ]
  },
  {
   "cell_type": "markdown",
   "id": "d8c4aa36",
   "metadata": {},
   "source": [
    "<br><br><br>\n",
    "## Synonyms and Antonyms"
   ]
  },
  {
   "cell_type": "code",
   "execution_count": 18,
   "id": "35072689",
   "metadata": {},
   "outputs": [],
   "source": [
    "synonyms = []\n",
    "antonyms = []"
   ]
  },
  {
   "cell_type": "code",
   "execution_count": 24,
   "id": "85d71bca",
   "metadata": {},
   "outputs": [],
   "source": [
    "# print(wordnet.synsets('good'))"
   ]
  },
  {
   "cell_type": "code",
   "execution_count": 29,
   "id": "36df53c5",
   "metadata": {},
   "outputs": [
    {
     "name": "stdout",
     "output_type": "stream",
     "text": [
      "Synset('good.n.01'): good\n",
      "Synset('good.n.02'): good\n",
      "Synset('good.n.02'): good, evil\n",
      "Synset('good.n.02'): goodness\n",
      "Synset('good.n.02'): goodness, evilness\n",
      "Synset('good.n.03'): good\n",
      "Synset('good.n.03'): good, bad\n",
      "Synset('good.n.03'): goodness\n",
      "Synset('good.n.03'): goodness, badness\n",
      "Synset('commodity.n.01'): commodity\n",
      "Synset('commodity.n.01'): trade_good\n",
      "Synset('commodity.n.01'): good\n",
      "Synset('good.a.01'): good\n",
      "Synset('good.a.01'): good, bad\n",
      "Synset('full.s.06'): full\n",
      "Synset('full.s.06'): good\n",
      "Synset('good.a.03'): good\n",
      "Synset('good.a.03'): good, evil\n",
      "Synset('estimable.s.02'): estimable\n",
      "Synset('estimable.s.02'): good\n",
      "Synset('estimable.s.02'): honorable\n",
      "Synset('estimable.s.02'): respectable\n",
      "Synset('beneficial.s.01'): beneficial\n",
      "Synset('beneficial.s.01'): good\n",
      "Synset('good.s.06'): good\n",
      "Synset('good.s.07'): good\n",
      "Synset('good.s.07'): just\n",
      "Synset('good.s.07'): upright\n",
      "Synset('adept.s.01'): adept\n",
      "Synset('adept.s.01'): expert\n",
      "Synset('adept.s.01'): good\n",
      "Synset('adept.s.01'): practiced\n",
      "Synset('adept.s.01'): proficient\n",
      "Synset('adept.s.01'): skillful\n",
      "Synset('adept.s.01'): skilful\n",
      "Synset('good.s.09'): good\n",
      "Synset('dear.s.02'): dear\n",
      "Synset('dear.s.02'): good\n",
      "Synset('dear.s.02'): near\n",
      "Synset('dependable.s.04'): dependable\n",
      "Synset('dependable.s.04'): good\n",
      "Synset('dependable.s.04'): safe\n",
      "Synset('dependable.s.04'): secure\n",
      "Synset('good.s.12'): good\n",
      "Synset('good.s.12'): right\n",
      "Synset('good.s.12'): ripe\n",
      "Synset('good.s.13'): good\n",
      "Synset('good.s.13'): well\n",
      "Synset('effective.s.04'): effective\n",
      "Synset('effective.s.04'): good\n",
      "Synset('effective.s.04'): in_effect\n",
      "Synset('effective.s.04'): in_force\n",
      "Synset('good.s.15'): good\n",
      "Synset('good.s.16'): good\n",
      "Synset('good.s.16'): serious\n",
      "Synset('good.s.17'): good\n",
      "Synset('good.s.17'): sound\n",
      "Synset('good.s.18'): good\n",
      "Synset('good.s.18'): salutary\n",
      "Synset('good.s.19'): good\n",
      "Synset('good.s.19'): honest\n",
      "Synset('good.s.20'): good\n",
      "Synset('good.s.20'): undecomposed\n",
      "Synset('good.s.20'): unspoiled\n",
      "Synset('good.s.20'): unspoilt\n",
      "Synset('good.s.21'): good\n",
      "Synset('well.r.01'): well\n",
      "Synset('well.r.01'): well, ill\n",
      "Synset('well.r.01'): good\n",
      "Synset('thoroughly.r.02'): thoroughly\n",
      "Synset('thoroughly.r.02'): soundly\n",
      "Synset('thoroughly.r.02'): good\n"
     ]
    }
   ],
   "source": [
    "for syn in wordnet.synsets('good'):\n",
    "    for l in syn.lemmas():\n",
    "#         synonyms.append(l.name())\n",
    "        print(f'{syn}: {l.name()}')\n",
    "        if l.antonyms():\n",
    "#             antonyms.append(l.antonyms()[0].name())\n",
    "            print(f'{syn}: {l.name()}, {l.antonyms()[0].name()}')"
   ]
  },
  {
   "cell_type": "code",
   "execution_count": 27,
   "id": "3eebcb94",
   "metadata": {},
   "outputs": [
    {
     "data": {
      "text/plain": [
       "['good',\n",
       " 'good',\n",
       " 'good',\n",
       " 'good',\n",
       " 'goodness',\n",
       " 'good',\n",
       " 'goodness',\n",
       " 'commodity',\n",
       " 'trade_good',\n",
       " 'good',\n",
       " 'good',\n",
       " 'full',\n",
       " 'good',\n",
       " 'good',\n",
       " 'estimable',\n",
       " 'good',\n",
       " 'honorable',\n",
       " 'respectable',\n",
       " 'beneficial',\n",
       " 'good',\n",
       " 'good',\n",
       " 'good',\n",
       " 'just',\n",
       " 'upright',\n",
       " 'adept',\n",
       " 'expert',\n",
       " 'good',\n",
       " 'practiced',\n",
       " 'proficient',\n",
       " 'skillful',\n",
       " 'skilful',\n",
       " 'good',\n",
       " 'dear',\n",
       " 'good',\n",
       " 'near',\n",
       " 'dependable',\n",
       " 'good',\n",
       " 'safe',\n",
       " 'secure',\n",
       " 'good',\n",
       " 'right',\n",
       " 'ripe',\n",
       " 'good',\n",
       " 'well',\n",
       " 'effective',\n",
       " 'good',\n",
       " 'in_effect',\n",
       " 'in_force',\n",
       " 'good',\n",
       " 'good',\n",
       " 'serious',\n",
       " 'good',\n",
       " 'sound',\n",
       " 'good',\n",
       " 'salutary',\n",
       " 'good',\n",
       " 'honest',\n",
       " 'good',\n",
       " 'undecomposed',\n",
       " 'unspoiled',\n",
       " 'unspoilt',\n",
       " 'good',\n",
       " 'well',\n",
       " 'good',\n",
       " 'thoroughly',\n",
       " 'soundly',\n",
       " 'good']"
      ]
     },
     "execution_count": 27,
     "metadata": {},
     "output_type": "execute_result"
    }
   ],
   "source": [
    "synonyms"
   ]
  },
  {
   "cell_type": "code",
   "execution_count": 28,
   "id": "6e90955a",
   "metadata": {},
   "outputs": [
    {
     "data": {
      "text/plain": [
       "['evil', 'evilness', 'bad', 'badness', 'bad', 'evil', 'ill']"
      ]
     },
     "execution_count": 28,
     "metadata": {},
     "output_type": "execute_result"
    }
   ],
   "source": [
    "antonyms"
   ]
  },
  {
   "cell_type": "code",
   "execution_count": null,
   "id": "675465f1",
   "metadata": {},
   "outputs": [],
   "source": []
  },
  {
   "cell_type": "code",
   "execution_count": null,
   "id": "34d8181d",
   "metadata": {},
   "outputs": [],
   "source": []
  }
 ],
 "metadata": {
  "kernelspec": {
   "display_name": "Python 3 (ipykernel)",
   "language": "python",
   "name": "python3"
  },
  "language_info": {
   "codemirror_mode": {
    "name": "ipython",
    "version": 3
   },
   "file_extension": ".py",
   "mimetype": "text/x-python",
   "name": "python",
   "nbconvert_exporter": "python",
   "pygments_lexer": "ipython3",
   "version": "3.10.9"
  }
 },
 "nbformat": 4,
 "nbformat_minor": 5
}
