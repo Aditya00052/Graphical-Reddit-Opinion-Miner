{
 "cells": [
  {
   "cell_type": "code",
   "execution_count": 1,
   "id": "93e65cd0",
   "metadata": {},
   "outputs": [],
   "source": [
    "from nltk.tokenize import word_tokenize, PunktSentenceTokenizer\n",
    "from nltk.corpus import state_union\n",
    "from nltk import pos_tag, ne_chunk"
   ]
  },
  {
   "cell_type": "code",
   "execution_count": 13,
   "id": "657d0f7a",
   "metadata": {},
   "outputs": [],
   "source": [
    "# import nltk\n",
    "# nltk.download('maxent_ne_chunker')\n",
    "# nltk.download('words')"
   ]
  },
  {
   "cell_type": "code",
   "execution_count": 2,
   "id": "d53c73f3",
   "metadata": {},
   "outputs": [],
   "source": [
    "training_txt = state_union.raw('2005-GWBush.txt')\n",
    "sample_txt = state_union.raw('2006-GWBush.txt')"
   ]
  },
  {
   "cell_type": "code",
   "execution_count": 3,
   "id": "d711a89d",
   "metadata": {},
   "outputs": [],
   "source": [
    "custom_sent_tokenizer = PunktSentenceTokenizer(train_text=training_txt)\n",
    "\n",
    "tokenized_sent = custom_sent_tokenizer.tokenize(sample_txt)"
   ]
  },
  {
   "cell_type": "code",
   "execution_count": 4,
   "id": "f6765800",
   "metadata": {},
   "outputs": [],
   "source": [
    "def process_content():\n",
    "    try:\n",
    "        for sentence in tokenized_sent:\n",
    "            words = word_tokenize(sentence)\n",
    "            tagged_words = pos_tag(words)\n",
    "            namedEnt = ne_chunk(tagged_words, binary=True)\n",
    "            namedEnt.draw()\n",
    "            break       # for only one diagram\n",
    "    except Exception as e:\n",
    "        print(str(e))"
   ]
  },
  {
   "cell_type": "code",
   "execution_count": 5,
   "id": "ddfe5b95",
   "metadata": {},
   "outputs": [],
   "source": [
    "process_content()"
   ]
  },
  {
   "cell_type": "code",
   "execution_count": null,
   "id": "18c45a31",
   "metadata": {},
   "outputs": [],
   "source": []
  }
 ],
 "metadata": {
  "kernelspec": {
   "display_name": "Python 3 (ipykernel)",
   "language": "python",
   "name": "python3"
  },
  "language_info": {
   "codemirror_mode": {
    "name": "ipython",
    "version": 3
   },
   "file_extension": ".py",
   "mimetype": "text/x-python",
   "name": "python",
   "nbconvert_exporter": "python",
   "pygments_lexer": "ipython3",
   "version": "3.10.9"
  }
 },
 "nbformat": 4,
 "nbformat_minor": 5
}
