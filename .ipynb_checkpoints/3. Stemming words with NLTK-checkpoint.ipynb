{
 "cells": [
  {
   "cell_type": "code",
   "execution_count": 1,
   "id": "caf318b9",
   "metadata": {},
   "outputs": [],
   "source": [
    "from nltk.tokenize import word_tokenize\n",
    "from nltk.stem import PorterStemmer"
   ]
  },
  {
   "cell_type": "code",
   "execution_count": 2,
   "id": "4c283fe6",
   "metadata": {},
   "outputs": [],
   "source": [
    "ps = PorterStemmer()"
   ]
  },
  {
   "cell_type": "code",
   "execution_count": 3,
   "id": "45683ded",
   "metadata": {},
   "outputs": [
    {
     "name": "stdout",
     "output_type": "stream",
     "text": [
      "python\n",
      "python\n",
      "python\n",
      "python\n",
      "pythonli\n"
     ]
    }
   ],
   "source": [
    "example_words = [\"python\",\"pythoner\",\"pythoning\",\"pythoned\",\"pythonly\"]\n",
    "\n",
    "for txt in example_words:\n",
    "    print(ps.stem(txt))"
   ]
  },
  {
   "cell_type": "code",
   "execution_count": 4,
   "id": "3c96e598",
   "metadata": {},
   "outputs": [],
   "source": [
    "example_text = \"It is important to by very pythonly while you are pythoning with python. All pythoners have pythoned poorly at least once.\""
   ]
  },
  {
   "cell_type": "code",
   "execution_count": 5,
   "id": "6dbac355",
   "metadata": {},
   "outputs": [],
   "source": [
    "words = word_tokenize(example_text)"
   ]
  },
  {
   "cell_type": "code",
   "execution_count": 6,
   "id": "6ee4834e",
   "metadata": {},
   "outputs": [
    {
     "name": "stdout",
     "output_type": "stream",
     "text": [
      "It: it\n",
      "is: is\n",
      "important: import\n",
      "to: to\n",
      "by: by\n",
      "very: veri\n",
      "pythonly: pythonli\n",
      "while: while\n",
      "you: you\n",
      "are: are\n",
      "pythoning: python\n",
      "with: with\n",
      "python: python\n",
      ".: .\n",
      "All: all\n",
      "pythoners: python\n",
      "have: have\n",
      "pythoned: python\n",
      "poorly: poorli\n",
      "at: at\n",
      "least: least\n",
      "once: onc\n",
      ".: .\n"
     ]
    }
   ],
   "source": [
    "for word in words:\n",
    "    print(f'{word}: {ps.stem(word)}')"
   ]
  },
  {
   "cell_type": "code",
   "execution_count": null,
   "id": "6fa476fa",
   "metadata": {},
   "outputs": [],
   "source": []
  }
 ],
 "metadata": {
  "kernelspec": {
   "display_name": "Python 3 (ipykernel)",
   "language": "python",
   "name": "python3"
  },
  "language_info": {
   "codemirror_mode": {
    "name": "ipython",
    "version": 3
   },
   "file_extension": ".py",
   "mimetype": "text/x-python",
   "name": "python",
   "nbconvert_exporter": "python",
   "pygments_lexer": "ipython3",
   "version": "3.10.9"
  }
 },
 "nbformat": 4,
 "nbformat_minor": 5
}
